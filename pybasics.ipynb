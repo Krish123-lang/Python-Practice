{
  "nbformat": 4,
  "nbformat_minor": 0,
  "metadata": {
    "colab": {
      "private_outputs": true,
      "provenance": [],
      "cell_execution_strategy": "setup",
      "authorship_tag": "ABX9TyOGe6Hr3rpRzTMvdodGAhJ6",
      "include_colab_link": true
    },
    "kernelspec": {
      "name": "python3",
      "display_name": "Python 3"
    },
    "language_info": {
      "name": "python"
    }
  },
  "cells": [
    {
      "cell_type": "markdown",
      "metadata": {
        "id": "view-in-github",
        "colab_type": "text"
      },
      "source": [
        "<a href=\"https://colab.research.google.com/github/Krish123-lang/Python-Practice/blob/main/pybasics.ipynb\" target=\"_parent\"><img src=\"https://colab.research.google.com/assets/colab-badge.svg\" alt=\"Open In Colab\"/></a>"
      ]
    },
    {
      "cell_type": "code",
      "execution_count": null,
      "metadata": {
        "id": "0hZsDsv2xJKv"
      },
      "outputs": [],
      "source": [
        "fname=\"krishna\"\n",
        "lname=\"mandal\"\n",
        "\n",
        "# print(fname+\" \"+lname)\n",
        "\n",
        "# userinp=input(\"Hey enter something: \")\n",
        "# print(userinp)\n",
        "\n",
        "# import keyword\n",
        "# print(keyword.softkwlist)\n",
        "\n",
        "astring='krishna is amazing'\n",
        "bstring=\"Krishna is amazing\"\n",
        "cstring=''' Krishna is super amazing\n",
        "because he codes in python\n",
        "isn\\'t that cool '''\n",
        "\n",
        "# print(astring)\n",
        "# print(bstring)\n",
        "# print(cstring)\n",
        "\n",
        "# print(f\"Hello {fname}, how are you doing? you know 2+2={2+2}\")\n",
        "\n",
        "# print(fname[0:5:2])\n",
        "# print(fname[-7:-1:2])\n",
        "print(len(fname + lname))"
      ]
    }
  ]
}